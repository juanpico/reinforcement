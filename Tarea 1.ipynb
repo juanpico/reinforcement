{
 "cells": [
  {
   "cell_type": "markdown",
   "id": "b012d40d",
   "metadata": {},
   "source": [
    "# Reinforcement Learning - Tarea 1"
   ]
  },
  {
   "cell_type": "markdown",
   "id": "2cb5d662",
   "metadata": {},
   "source": [
    "### Integrantes:\n",
    "- Juan Camilo Pico 201731674\n",
    "- Mauricio Delgado "
   ]
  },
  {
   "cell_type": "markdown",
   "id": "59da9453",
   "metadata": {},
   "source": [
    "### Punto 1"
   ]
  },
  {
   "cell_type": "markdown",
   "id": "c3530a73",
   "metadata": {},
   "source": [
    "Para el problema de multi-armed bandit, implemente un banco de pruebas (testbed) similar al considerado en clase y en el libro de texto1, pero con 12 acciones con $q_∗(a)$ generadas aleatoriamente de acuerdo a una distribución normal con media 8 y varianza 2.\n",
    "Resuelva el problema de maximizar la suma de recompensas en un horizonte de tiempo de 3000 iteraciones con los siguientes algoritmos (implementados por usted):\n",
    "\n",
    "- ε-greedy con recompensa promedio. \n",
    "- ε-greedy con tamaño de paso constante. \n",
    "- Gradient bandit.\n",
    "\n",
    "Para cada caso ajuste apropiadamente los parámetros requeridos ($\\alpha$ y/o $\\epsilon$), y grafique el desempeño de los algoritmos en términos de recompensa recibida y porcentaje de iteraciones en que se selecciona la acción óptima2."
   ]
  },
  {
   "cell_type": "markdown",
   "id": "f413d378",
   "metadata": {},
   "source": [
    "### Solución:"
   ]
  },
  {
   "cell_type": "code",
   "execution_count": null,
   "id": "0d5e1c3b",
   "metadata": {},
   "outputs": [],
   "source": [
    "def "
   ]
  }
 ],
 "metadata": {
  "kernelspec": {
   "display_name": "Python 3.8.8 64-bit ('anaconda3': virtualenv)",
   "language": "python",
   "name": "python388jvsc74a57bd0e9c15d488ab6f9013b2b395d97df9b5d670fd8c24cfbd8b01d715561c2480e82"
  },
  "language_info": {
   "codemirror_mode": {
    "name": "ipython",
    "version": 3
   },
   "file_extension": ".py",
   "mimetype": "text/x-python",
   "name": "python",
   "nbconvert_exporter": "python",
   "pygments_lexer": "ipython3",
   "version": "3.8.8"
  }
 },
 "nbformat": 4,
 "nbformat_minor": 5
}
