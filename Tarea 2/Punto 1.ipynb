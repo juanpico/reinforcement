{
 "cells": [
  {
   "cell_type": "markdown",
   "id": "766ae1c1",
   "metadata": {},
   "source": [
    "<br>    \n",
    "<img src=\"https://uniandes.edu.co/sites/default/files/logo-uniandes.png\" width=200 height=\"100\" align=\"left\">\n",
    "<h1 style=\"text-align:center;\">IELE 4922</h1>\n",
    "<h3 style='text-align: right;'> Departamento de Ingeniería Eléctrica y Electrónica &emsp;<br> Facultad de Ingeniería &emsp; <br>\n",
    "     Universidad de los Andes &emsp; <br>\n",
    "     Taller # 2 &emsp; <br>\n",
    "</h3>\n",
    "&emsp;<b>Integrante 1:</b> Mauricio Ricardo Delgado Quintero - 201712801\n",
    "<br>\n",
    "&emsp;<b>Integrante 2:</b> Juan Camilo Pico Garrido - 201731674\n",
    "<br>"
   ]
  },
  {
   "cell_type": "markdown",
   "id": "dfdba8d9",
   "metadata": {},
   "source": [
    "# Punto 1 \n"
   ]
  },
  {
   "cell_type": "markdown",
   "id": "2c09de1b",
   "metadata": {},
   "source": [
    "(*The Lazy Adaptable Lion* [<span style=\"color:red\">Puterman, 2014,</span> Ch. 3])\n",
    "\n",
    "Un león requiere comer 6kg de carne por día y puede almacenar en su estomago hasta 30kg. Esto significa que con el estomago lleno, puede sobrevivir 5 días sin comer. Las cebras tienen una biomasa comestible promedio de 164kgm lo suficiente para cubrir las necesidades alimenticias de varios leones.\n",
    "<img src="leones.png" width=400>\n",
    "Si el león caza en grupo, las probabilidades de tener una caza exitosa aumentan con el número de integrantes del grupo. Cada vez que el león sale de caza, esto le representa un consumo energético de 0.5kg. Por observación se tiene que las probabilidades de una caza exitosa son:\n",
    "\n",
    "$$p(1)=0.10+c(0.01) \\quad p(2)=0.27-(10-c)(0.01) \\quad p(3)=0.30$$\n",
    "$$p(4)=0.33 \\quad p(5)=0.33+c(0.01) \\quad p(6)=0.5-(10-c)(0.01)$$\n",
    "\n",
    "Donde $p(n)$ es la probabilidad de cazar a una presa en un grupo de $n$ leones y $c$ es el último número de su código Uniandes.\n",
    "\n",
    "a) Formule este problema como un proceso de decisión de Markov (MDP). Es decir, defina estados, acciones y recompensas. Asuma una única caza por día y que sí la caza es exitosa todos los leones se dividen la carne en partes iguales. Tenga en cuenta que el objetivo del león es maxizimizar su probabilidad de supervivencia sobre $T$ días."
   ]
  },
  {
   "cell_type": "markdown",
   "id": "15ea10e1",
   "metadata": {},
   "source": [
    "## Solución\n",
    "$$\\text {Variable de estado }  \\\\ X_n: \\text {Cantidad de alimento (en kg) en el estomago de un león después de la n-ésima caza} $$\n",
    "$$\\text {Espacio de estados } \\\\S : \\{0,0.5,1,...,30\\}  $$\n",
    "Por fines prácticos se decide que el espacio de estados estará discretizado en pasos de 0.5 kg\n",
    "$$\\text {Acciones}: \\{0,1,2,3,4,5,6\\}$$\n",
    "Donde 0 significa que el león decide no cazar, 1 que decide cazar individualmente, 2,3,4,5,6 que caza en grupo de tamaño 2,3,4,5 y 6 respectivamente.\n",
    "$$\\text {Recompensas}: $$\n",
    "    $$ r_{t}(s,a)  = \n",
    "    \\begin{cases} \n",
    "    -1, & s=0 \\\\\n",
    "    0, & \\text{d.l.c}\n",
    "    \\end{cases}\n",
    "    $$\n",
    "\n",
    "Ahora bien, la forma de calcular las matrices de probabilidad de transición, es la siguiente:\n",
    "$$ p(i,j|a)= \n",
    "    \\begin{cases}\n",
    "    1, & j=i-12 & i>12 & a=0 \\\\\n",
    "    1, & j=0 & i\\leq12 & a=0 \\\\\n",
    "    1-p(a), & j=i-13 & i>13 & i>0 & a\\neq0 \\\\\n",
    "    1-p(a), & j=0 & i\\leq 13 & i>0 & a\\neq0 \\\\\n",
    "    p(a), & j=60 & i+ \\lfloor \\frac{164\\cdot2}{a}\\rfloor -13 >60 & i>0 & a\\neq0 \\\\\n",
    "    p(a), & j=i+ \\lfloor \\frac{164\\cdot2}{a}\\rfloor -13 & i>0 & a\\neq0 \\\\\n",
    "    1, & i=0 & j=0 & a\\neq0 \\\\\n",
    "    0, & d.l.c\n",
    "    \\end {cases}\n",
    "    $$"
   ]
  },
  {
   "cell_type": "code",
   "execution_count": 1,
   "id": "407c14e9",
   "metadata": {},
   "outputs": [
    {
     "name": "stdout",
     "output_type": "stream",
     "text": [
      "Ingrese el último digito de su código uniandes: 4\n"
     ]
    }
   ],
   "source": [
    "# Importar librerias\n",
    "import numpy as np\n",
    "\n",
    "#Definir el conjunto de estados\n",
    "estados = np.arange(61)\n",
    "estados\n",
    "#Definir el conjunto de acciones \n",
    "acciones = np.arange(7)\n",
    "acciones \n",
    "recompensas = np.zeros(len(estados))\n",
    "recompensas[0] = -1 \n",
    "# Parámetro del último código de alguno de los dos miembros del grupo\n",
    "c = int(input(\"Ingrese el último digito de su código uniandes: \")) \n",
    "\n",
    "#Crear función para calcular las probabilidades fácilmente\n",
    "def prob(a):\n",
    "    if a==1:\n",
    "        resultado = 0.1 + (c*0.01)\n",
    "    if a==2:\n",
    "        resultado = 0.27 - (10-c)*(0.01)\n",
    "    if a==3:\n",
    "        resultado = 0.3\n",
    "    if a==4:\n",
    "        resultado = 0.33\n",
    "    if a==5:\n",
    "        resultado = 0.35 + (c*0.01)\n",
    "    if a==6:\n",
    "        resultado = 0.5 - (10-c)*(0.01)\n",
    "    return resultado\n"
   ]
  },
  {
   "cell_type": "code",
   "execution_count": 2,
   "id": "f62266a3",
   "metadata": {},
   "outputs": [],
   "source": [
    "# Crear las matrices de transición de probabilidad, una matriz por cada acción\n",
    "P = np.zeros((len(estados),len(estados),len(acciones)))"
   ]
  },
  {
   "cell_type": "code",
   "execution_count": 3,
   "id": "01b8990b",
   "metadata": {},
   "outputs": [
    {
     "name": "stdout",
     "output_type": "stream",
     "text": [
      "0\n",
      "[1. 1. 1. 1. 1. 1. 1. 1. 1. 1. 1. 1. 1. 1. 1. 1. 1. 1. 1. 1. 1. 1. 1. 1.\n",
      " 1. 1. 1. 1. 1. 1. 1. 1. 1. 1. 1. 1. 1. 1. 1. 1. 1. 1. 1. 1. 1. 1. 1. 1.\n",
      " 1. 1. 1. 1. 1. 1. 1. 1. 1. 1. 1. 1. 1.]\n",
      "1\n",
      "[1. 1. 1. 1. 1. 1. 1. 1. 1. 1. 1. 1. 1. 1. 1. 1. 1. 1. 1. 1. 1. 1. 1. 1.\n",
      " 1. 1. 1. 1. 1. 1. 1. 1. 1. 1. 1. 1. 1. 1. 1. 1. 1. 1. 1. 1. 1. 1. 1. 1.\n",
      " 1. 1. 1. 1. 1. 1. 1. 1. 1. 1. 1. 1. 1.]\n",
      "2\n",
      "[1. 1. 1. 1. 1. 1. 1. 1. 1. 1. 1. 1. 1. 1. 1. 1. 1. 1. 1. 1. 1. 1. 1. 1.\n",
      " 1. 1. 1. 1. 1. 1. 1. 1. 1. 1. 1. 1. 1. 1. 1. 1. 1. 1. 1. 1. 1. 1. 1. 1.\n",
      " 1. 1. 1. 1. 1. 1. 1. 1. 1. 1. 1. 1. 1.]\n",
      "3\n",
      "[1. 1. 1. 1. 1. 1. 1. 1. 1. 1. 1. 1. 1. 1. 1. 1. 1. 1. 1. 1. 1. 1. 1. 1.\n",
      " 1. 1. 1. 1. 1. 1. 1. 1. 1. 1. 1. 1. 1. 1. 1. 1. 1. 1. 1. 1. 1. 1. 1. 1.\n",
      " 1. 1. 1. 1. 1. 1. 1. 1. 1. 1. 1. 1. 1.]\n",
      "4\n",
      "[1. 1. 1. 1. 1. 1. 1. 1. 1. 1. 1. 1. 1. 1. 1. 1. 1. 1. 1. 1. 1. 1. 1. 1.\n",
      " 1. 1. 1. 1. 1. 1. 1. 1. 1. 1. 1. 1. 1. 1. 1. 1. 1. 1. 1. 1. 1. 1. 1. 1.\n",
      " 1. 1. 1. 1. 1. 1. 1. 1. 1. 1. 1. 1. 1.]\n",
      "5\n",
      "[1. 1. 1. 1. 1. 1. 1. 1. 1. 1. 1. 1. 1. 1. 1. 1. 1. 1. 1. 1. 1. 1. 1. 1.\n",
      " 1. 1. 1. 1. 1. 1. 1. 1. 1. 1. 1. 1. 1. 1. 1. 1. 1. 1. 1. 1. 1. 1. 1. 1.\n",
      " 1. 1. 1. 1. 1. 1. 1. 1. 1. 1. 1. 1. 1.]\n",
      "6\n",
      "[1. 1. 1. 1. 1. 1. 1. 1. 1. 1. 1. 1. 1. 1. 1. 1. 1. 1. 1. 1. 1. 1. 1. 1.\n",
      " 1. 1. 1. 1. 1. 1. 1. 1. 1. 1. 1. 1. 1. 1. 1. 1. 1. 1. 1. 1. 1. 1. 1. 1.\n",
      " 1. 1. 1. 1. 1. 1. 1. 1. 1. 1. 1. 1. 1.]\n"
     ]
    }
   ],
   "source": [
    "# Llenar las matrices de transición de probabilidad\n",
    "for a in acciones:\n",
    "    for i in estados:\n",
    "        for j in estados:\n",
    "            if a==0:\n",
    "                # Consume de lo que tiene almacenado en el estomago\n",
    "                if (j==i-12) & (i>12):\n",
    "                    P[i,j,a] = 1\n",
    "                # Se queda sin reservas\n",
    "                if (j==0) & (i<=12):\n",
    "                    P[i,j,a] = 1\n",
    "            else:\n",
    "                # Caza fallida \n",
    "                if (j==i-13) & (i>0):\n",
    "                    P[i,j,a] = 1-prob(a)\n",
    "                #Caza exitosa \n",
    "                if (j==60) & (i+np.rint((164*2)/a)-13>60) & (i>0):\n",
    "                    P[i,j,a] = prob(a)\n",
    "                #Caza exitosa \n",
    "                if (j==i-13+np.rint((164*2)/a)) & (i>0):\n",
    "                    P[i,j,a] = prob(a)\n",
    "                # Caza fallida y agota las reservas\n",
    "                if (j==0) & (i<=13)  & (i>0):\n",
    "                    P[i,j,a] = 1-prob(a)\n",
    "                # Estado absorbente (está muerto no tiene energía ni siquiera para cazar)\n",
    "                if (j==0) & (i==0):\n",
    "                    P[i,j,a] =1\n",
    "\n",
    "#Comprobar que la matriz sea estocastica\n",
    "for i in acciones:\n",
    "    print(i,P[:,:,i].sum(axis=1),sep=\"\\n\")\n"
   ]
  },
  {
   "cell_type": "markdown",
   "id": "6a9c42ea",
   "metadata": {},
   "source": [
    "b) Halle la función de valor de estado de una política aleatoria (seleccione acciones con probabilidad uniforme en cada estado) utilizando programación dinámica"
   ]
  },
  {
   "cell_type": "markdown",
   "id": "eb6ec30e",
   "metadata": {},
   "source": [
    "## Programación dinámica"
   ]
  },
  {
   "cell_type": "code",
   "execution_count": 4,
   "id": "89dea129",
   "metadata": {},
   "outputs": [
    {
     "name": "stdout",
     "output_type": "stream",
     "text": [
      "Iteración: 2  Error: 0.9999999999999998\n",
      "Iteración: 3  Error: 0.08103339220094016\n",
      "Iteración: 4  Error: 0.04903647376914139\n",
      "Iteración: 5  Error: 0.029726021998218943\n",
      "Iteración: 6  Error: 0.01802055663690505\n",
      "Iteración: 7  Error: 0.01092444913549162\n",
      "Iteración: 8  Error: 0.00662263609705982\n",
      "Iteración: 9  Error: 0.004014784483569844\n",
      "Iteración: 10  Error: 0.0024338487293121824\n",
      "Iteración: 11  Error: 0.001475451462317534\n",
      "Iteración: 12  Error: 0.0008944504197967995\n",
      "CPU times: total: 359 ms\n",
      "Wall time: 359 ms\n"
     ]
    }
   ],
   "source": [
    "%%time\n",
    "#Creo un vector para guardar la función de valor para cada estado\n",
    "V = np.zeros(len(estados))\n",
    "V\n",
    "gamma = 0.9\n",
    "k = 1\n",
    "error = 1\n",
    "while error > 0.001:\n",
    "    error = 0\n",
    "    for s in estados:\n",
    "        if s!=0:\n",
    "            temp = V[s]*1.0\n",
    "            V[s] = sum([(1/len(acciones))*sum([P[s, s_prima, a]*(recompensas[s]+gamma*V[s_prima]) for s_prima in estados]) for a in acciones])\n",
    "            error = max(error, abs(temp-V[s]))\n",
    "        else:\n",
    "            temp = V[s]*1.0\n",
    "            V[s] = sum([(1/len(acciones))*sum([P[s, s_prima, a]*(recompensas[s]) for s_prima in estados]) for a in acciones])\n",
    "            error = max(error, abs(temp-V[s]))\n",
    "    k = k+1\n",
    "    print(\"Iteración:\",k,\" Error:\", error)  "
   ]
  },
  {
   "cell_type": "code",
   "execution_count": 5,
   "id": "2d4e6a7b",
   "metadata": {
    "scrolled": true
   },
   "outputs": [
    {
     "data": {
      "text/plain": [
       "array([-1.        , -0.74823773, -0.74823743, -0.74823689, -0.74823524,\n",
       "       -0.7482297 , -0.74821567, -0.74819007, -0.74811411, -0.7477036 ,\n",
       "       -0.7465569 , -0.74535573, -0.74535571, -0.71298624, -0.57735816,\n",
       "       -0.57735773, -0.5773568 , -0.57735374, -0.57734453, -0.57733369,\n",
       "       -0.57731013, -0.57721643, -0.57684784, -0.57607567, -0.57542858,\n",
       "       -0.57126678, -0.53639098, -0.46332615, -0.46332579, -0.4633249 ,\n",
       "       -0.46332207, -0.46331571, -0.46330684, -0.4632821 , -0.46318423,\n",
       "       -0.46288639, -0.46238721, -0.46150353, -0.45477748, -0.42659534,\n",
       "       -0.38723422, -0.38723392, -0.38723307, -0.38723073, -0.38722616,\n",
       "       -0.3872182 , -0.38719229, -0.38710128, -0.38687665, -0.38649411,\n",
       "       -0.38515328, -0.37790644, -0.35766361, -0.33645917, -0.3364589 ,\n",
       "       -0.33645814, -0.3364563 , -0.33645281, -0.33644519, -0.33641953,\n",
       "       -0.33634162])"
      ]
     },
     "execution_count": 5,
     "metadata": {},
     "output_type": "execute_result"
    }
   ],
   "source": [
    "V"
   ]
  },
  {
   "cell_type": "markdown",
   "id": "f52625fe",
   "metadata": {},
   "source": [
    "De este modo, se tiene que la función de valor para cada estado representa la probabilidad de fallecer. Así pues, para el estado 0, la probabilidad de fallecer es 1 mientras que para el estado 60 (que significa que el león tiene 30 kg de alimento en el estomago luego de cazar corresponde a 0.336). Lo anterior, tiene sentido, pues al aumentar la cantidad de alimento disponible en el estomago del león las probabilidades de fallecer disminuyen."
   ]
  }
 ],
 "metadata": {
  "kernelspec": {
   "display_name": "Python 3",
   "language": "python",
   "name": "python3"
  },
  "language_info": {
   "codemirror_mode": {
    "name": "ipython",
    "version": 3
   },
   "file_extension": ".py",
   "mimetype": "text/x-python",
   "name": "python",
   "nbconvert_exporter": "python",
   "pygments_lexer": "ipython3",
   "version": "3.8.8"
  },
  "varInspector": {
   "cols": {
    "lenName": 16,
    "lenType": 16,
    "lenVar": 40
   },
   "kernels_config": {
    "python": {
     "delete_cmd_postfix": "",
     "delete_cmd_prefix": "del ",
     "library": "var_list.py",
     "varRefreshCmd": "print(var_dic_list())"
    },
    "r": {
     "delete_cmd_postfix": ") ",
     "delete_cmd_prefix": "rm(",
     "library": "var_list.r",
     "varRefreshCmd": "cat(var_dic_list()) "
    }
   },
   "position": {
    "height": "419.844px",
    "left": "910px",
    "right": "20px",
    "top": "120px",
    "width": "350px"
   },
   "types_to_exclude": [
    "module",
    "function",
    "builtin_function_or_method",
    "instance",
    "_Feature"
   ],
   "window_display": false
  }
 },
 "nbformat": 4,
 "nbformat_minor": 5
}
